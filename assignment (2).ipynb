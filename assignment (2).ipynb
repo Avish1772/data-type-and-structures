{
  "nbformat": 4,
  "nbformat_minor": 0,
  "metadata": {
    "colab": {
      "provenance": []
    },
    "kernelspec": {
      "name": "python3",
      "display_name": "Python 3"
    },
    "language_info": {
      "name": "python"
    }
  },
  "cells": [
    {
      "cell_type": "code",
      "execution_count": null,
      "metadata": {
        "id": "4chJFv02Wwpy"
      },
      "outputs": [],
      "source": []
    },
    {
      "cell_type": "markdown",
      "source": [
        "1.**What are data structures, and why are they important?**\n",
        "-. A data structure is a format for organizing and managing data. It defines how the data is stored, how it can be accessed, and what operations can be performed on it.\n",
        "Efficient Data Management\n",
        "Help store, access, and manage large amounts of data quickly (e.g., databases, file systems).\n",
        "\n",
        "Improved Performance\n",
        "Choosing the right data structure can drastically improve the performance of your algorithm.\n",
        "\n",
        "Code Clarity and Maintainability\n",
        "Organizes data logically, making programs easier to understand and maintain.\n",
        "\n",
        "Optimized Resource Use\n",
        "Efficient use of memory and processing power by selecting the best structure for a task.\n",
        "\n",
        "Enables Complex Operations\n",
        "Some tasks like graph traversal, shortest path finding, or balancing a tree are only possible or efficient with proper data structures."
      ],
      "metadata": {
        "id": "O_9GP54lW6Tx"
      }
    },
    {
      "cell_type": "markdown",
      "source": [
        "2. **Explain the difference between mutable and immutable data types with examples?**\n",
        "-.  Difference Between Mutable and Immutable Data Types in Python\n",
        "In Python, mutability refers to whether or not an object’s value can be changed after it is created.\n",
        "\n",
        "✅ Mutable Data Types\n",
        "Can be changed after creation\n",
        "\n",
        "You can modify, add, or remove elements without changing the object’s identity (memory address).\n",
        "\n",
        "Examples:my_list = [1, 2, 3]\n",
        "print(id(my_list))  # Memory address before change\n",
        "\n",
        "my_list.append(4)\n",
        "print(my_list)       # [1, 2, 3, 4]\n",
        "print(id(my_list))  # Same memory address\n",
        "🚫 Immutable Data Types\n",
        "Cannot be changed after creation\n",
        "\n",
        "Any operation that seems to modify the object actually creates a new object.\n",
        "\n",
        "Examples:\n",
        "int, float, str, tuple, bool, frozenset\n",
        "my_str = \"hello\"\n",
        "print(id(my_str))    # Memory address before change\n",
        "\n",
        "my_str += \" world\"\n",
        "print(my_str)        # \"hello world\"\n",
        "print(id(my_str))    # Different memory address\n"
      ],
      "metadata": {
        "id": "1UXt9VkqYyhZ"
      }
    },
    {
      "cell_type": "markdown",
      "source": [
        "3.**What are the main differences between lists and tuples in Python?**\n",
        "-.In Python, the main difference between lists and tuples is that **lists are mutable**, meaning their elements can be changed, added, or removed, while **tuples are immutable** and cannot be modified after creation. Lists are defined using square brackets `[]` and support many built-in methods like `append()`, `remove()`, and `sort()`, whereas tuples are defined using parentheses `()` and offer fewer methods. Because of their mutability, lists use slightly more memory and are a bit slower than tuples, which are more memory-efficient and faster due to their immutability. Additionally, only tuples can be used as keys in dictionaries since they are hashable (if all elements inside are also hashable), while lists cannot. Therefore, **lists are preferred when the data is expected to change**, and **tuples are ideal for fixed or constant data collections**.\n"
      ],
      "metadata": {
        "id": "Me6szcJraEGg"
      }
    },
    {
      "cell_type": "markdown",
      "source": [
        "4. **Describe how dictionaries store data.**\n",
        "-.In Python, dictionaries store data as key-value pairs. Each item in a dictionary consists of a key and a value, where the key is unique and is used to access the corresponding value.\n",
        "Dictionaries use a hash table internally.\n",
        "\n",
        "When you create a key-value pair, Python calculates a hash for the key, which determines where the value will be stored in memory.\n",
        "\n",
        "This allows for fast lookups, insertions, and deletions, typically in constant time\n",
        "𝑂\n",
        "(\n",
        "1\n",
        ")\n",
        "O(1)."
      ],
      "metadata": {
        "id": "iJd-4OjOZ6Lu"
      }
    },
    {
      "cell_type": "markdown",
      "source": [
        "5.**Why might you use a set instead of a list in Python?**\n",
        "-.In Python 3, a **set** is used instead of a **list** when you need to store **unique elements** and perform **fast membership checks**. Sets automatically eliminate duplicate values and are implemented using hash tables, which makes operations like checking if an item exists significantly faster than in lists. Additionally, sets support efficient mathematical operations such as union, intersection, and difference, making them ideal for comparing collections. However, sets are **unordered** and do not support indexing or duplicate values, so they are not suitable when the order of elements or repeated items matters. Therefore, a set is preferred when uniqueness, performance, and set-based logic are more important than maintaining order or duplicates.\n"
      ],
      "metadata": {
        "id": "4FQ5g5DjLHvX"
      }
    },
    {
      "cell_type": "markdown",
      "source": [
        "6. **What is a string in Python, and how is it different from a list?**\n",
        "-.In Python, a string is a sequence of characters enclosed in single ('), double (\"), or triple quotes (''' or \"\"\"). It is used to represent textual data, such as words, sentences, or any combination of letters, numbers, and symbols.\n",
        "\n",
        "A list, on the other hand, is a collection of ordered and mutable items, which can contain elements of different data types, including strings, numbers, or even other lists."
      ],
      "metadata": {
        "id": "qwkXbWLbL2zo"
      }
    },
    {
      "cell_type": "markdown",
      "source": [
        "7.**How do tuples ensure data integrity in Python?**\n",
        "-. In Python 3, tuples ensure data integrity primarily through their immutability. Once a tuple is created, its elements cannot be changed, added, or removed. This immutability protects the data from accidental or intentional modification, making tuples a reliable choice for storing constant or fixed information."
      ],
      "metadata": {
        "id": "6G3iw0VmMRuT"
      }
    },
    {
      "cell_type": "markdown",
      "source": [
        "8.**What is a hash table, and how does it relate to dictionaries in Python?**\n",
        "-.A hash table is a data structure that stores data in an unordered collection of key-value pairs, using a process called hashing to determine where each value is stored. It allows for fast data retrieval because it calculates a unique hash code for each key, which is used to determine the index where the corresponding value is stored in memory."
      ],
      "metadata": {
        "id": "J3CUhvGQM1f6"
      }
    },
    {
      "cell_type": "markdown",
      "source": [
        "9.**Can lists contain different data types in Python?**\n",
        "-.Yes, lists in Python can contain different data types. Python lists are heterogeneous, meaning they can store a mix of data types within the same list, including integers, strings, floats, booleans, other lists, or even objects.\n",
        "\n"
      ],
      "metadata": {
        "id": "XsbOm0cINYJE"
      }
    },
    {
      "cell_type": "markdown",
      "source": [
        "10.**Explain why strings are immutable in Python?**\n",
        "-.Strings are immutable in Python, meaning their contents cannot be changed after creation. This immutability ensures data integrity and prevents accidental modification, making programs more reliable and easier to debug. It also allows strings to be hashable, enabling their use as keys in dictionaries and elements in sets. Additionally, immutability improves performance through memory optimizations like string interning. Overall, Python makes strings immutable to enhance safety, efficiency, and predictability in code.\n"
      ],
      "metadata": {
        "id": "RR25pWGwNOHz"
      }
    },
    {
      "cell_type": "markdown",
      "source": [
        "11.**What advantages do dictionaries offer over lists for certain tasks?**\n",
        "-.Dictionaries offer several advantages over lists for certain tasks in Python. Unlike lists, which store elements by position, dictionaries store data as key-value pairs, allowing for **faster and more direct access to values using unique keys**. This makes dictionaries ideal for tasks that require **quick lookups, data labeling, or mapping relationships** between items. They are also more efficient for **searching and updating data** when the position of elements is unknown or irrelevant. Overall, dictionaries provide a more organized and faster way to manage data when key-based access is needed.\n"
      ],
      "metadata": {
        "id": "mZFQrtcJOUeU"
      }
    },
    {
      "cell_type": "markdown",
      "source": [
        "12.**Describe a scenario where using a tuple would be preferable over a list?**\n",
        "-.A tuple would be preferable over a list in a scenario where the data should remain **constant and unchangeable**, such as storing a set of **fixed configuration values**, **coordinates**, or **database record fields**. For example, when representing the (latitude, longitude) of a location, a tuple ensures the values cannot be modified accidentally, maintaining **data integrity**. Additionally, because tuples are **immutable and hashable**, they can be safely used as **keys in dictionaries** or elements in sets, which lists cannot. Thus, tuples are ideal for situations that require **fixed, secure, and efficient data storage**.\n"
      ],
      "metadata": {
        "id": "REzNUjtFOrXn"
      }
    },
    {
      "cell_type": "markdown",
      "source": [
        "13.**How do sets handle duplicate values in Python?**\n",
        "-.In Python, sets automatically eliminate duplicate values.\n",
        "\n",
        "When you create a set, any duplicate elements are removed and only unique values are stored. This is because sets are unordered collections of unique, immutable elements."
      ],
      "metadata": {
        "id": "Ygw4BuBPMr0U"
      }
    },
    {
      "cell_type": "markdown",
      "source": [
        "14.**How does the “in” keyword work differently for lists and dictionaries?**\n",
        "-.The `in` keyword in Python is used to check membership, but it behaves differently for lists and dictionaries. In a list, `in` checks whether a value exists among the list elements. In a dictionary, `in` checks whether a key exists in the dictionary, not the values. To check for a value in a dictionary, one must use the `values()` method.\n"
      ],
      "metadata": {
        "id": "pDd-nSIt0ceU"
      }
    },
    {
      "cell_type": "markdown",
      "source": [
        "15.**Can you modify the elements of a tuple? Explain why or why not?**\n",
        "-.No, you **cannot modify the elements of a tuple** in Python because **tuples are immutable**. This means once a tuple is created, its elements cannot be changed, added, or removed. This immutability is enforced by Python to ensure data integrity and allow tuples to be used as **keys in dictionaries** and **elements in sets**, both of which require immutable types.\n"
      ],
      "metadata": {
        "id": "c3VG3MRJ08O3"
      }
    },
    {
      "cell_type": "markdown",
      "source": [
        "16.**What is a nested dictionary, and give an example of its use case?**\n",
        "-.A nested dictionary is a dictionary where another dictionary is stored as a value. It allows you to organize complex data structures in a hierarchical form.\n",
        "\n",
        " Use Case:\n",
        "Nested dictionaries are useful when you need to store structured data, such as student records, inventory systems, or JSON-like data.\n",
        "example,\n",
        "students = {\n",
        "    \"101\": {\"name\": \"Alice\", \"age\": 20, \"grade\": \"A\"},\n",
        "    \"102\": {\"name\": \"Bob\", \"age\": 22, \"grade\": \"B\"}\n",
        "}\n",
        "print(students[\"101\"][\"name\"])  # Output: Alice\n"
      ],
      "metadata": {
        "id": "iQCT5Jn21KZw"
      }
    },
    {
      "cell_type": "markdown",
      "source": [
        "17.**Describe the time complexity of accessing elements in a dictionary?**\n",
        "-.The time complexity of accessing elements in a dictionary in Python is on average **O(1)**, because dictionaries are implemented using hash tables. When a key is accessed, Python computes its hash and directly retrieves the corresponding value without scanning all elements. In rare cases, due to hash collisions, the time complexity can degrade to **O(n)**, but Python handles collisions efficiently, so the average performance remains constant time.\n",
        "\n"
      ],
      "metadata": {
        "id": "p5Rim1H71yaO"
      }
    },
    {
      "cell_type": "markdown",
      "source": [
        "18.**In what situations are lists preferred over dictionaries?**\n",
        "-.Lists are preferred over dictionaries when the data is ordered, indexed by position, and the primary need is to store a sequence of items that may include duplicates. They are ideal for situations where the order of elements matters, and where quick access by numerical index is required rather than by key.\n"
      ],
      "metadata": {
        "id": "ofE4Ixde2MZQ"
      }
    },
    {
      "cell_type": "markdown",
      "source": [
        "19.**Why are dictionaries considered unordered, and how does that affect data retrieval**?\n",
        "-.Dictionaries are considered unordered because they store key-value pairs based on the hash of the keys rather than their insertion order (prior to Python 3.7). Although modern Python versions preserve insertion order, this is not guaranteed behavior in all contexts. As a result, data retrieval in dictionaries is done by key lookup, not by position, meaning you cannot access items by index like in a list.\n"
      ],
      "metadata": {
        "id": "9oY_Y-j42lwt"
      }
    },
    {
      "cell_type": "markdown",
      "source": [
        "20.**Explain the difference between a list and a dictionary in terms of data retrieval.?**\n",
        "-.The difference between a list and a dictionary in terms of data retrieval is that a list retrieves data using a **numerical index** based on the element’s position, while a dictionary retrieves data using a **unique key** associated with each value. This means lists are accessed by position, whereas dictionaries are accessed by key lookup.\n"
      ],
      "metadata": {
        "id": "laKxpAkb2_IP"
      }
    },
    {
      "cell_type": "markdown",
      "source": [
        "# **PRACTICALE QUESTIONS**"
      ],
      "metadata": {
        "id": "TgY5H2rc3YHl"
      }
    },
    {
      "cell_type": "markdown",
      "source": [
        "1.Write a code to create a string with your name and print it."
      ],
      "metadata": {
        "id": "3YNJH8ec3iIm"
      }
    },
    {
      "cell_type": "code",
      "source": [
        "name = \"Avinash Sharma\"\n",
        "print(name)\n"
      ],
      "metadata": {
        "colab": {
          "base_uri": "https://localhost:8080/"
        },
        "id": "_KWd-f9z3w99",
        "outputId": "70cc1d0b-5d30-4944-ffcf-adef88abd18a"
      },
      "execution_count": 1,
      "outputs": [
        {
          "output_type": "stream",
          "name": "stdout",
          "text": [
            "Avinash Sharma\n"
          ]
        }
      ]
    },
    {
      "cell_type": "markdown",
      "source": [
        "2.Write a code to find the length of the string \"Hello World\"?"
      ],
      "metadata": {
        "id": "gDqdLmCo33Sv"
      }
    },
    {
      "cell_type": "code",
      "source": [
        "text = \"Hello World\"\n",
        "length = len(text)\n",
        "print(length)\n"
      ],
      "metadata": {
        "colab": {
          "base_uri": "https://localhost:8080/"
        },
        "id": "5A_usfKs4Fzw",
        "outputId": "1a675995-89a2-489e-fab1-9d7a5fd26eeb"
      },
      "execution_count": 2,
      "outputs": [
        {
          "output_type": "stream",
          "name": "stdout",
          "text": [
            "11\n"
          ]
        }
      ]
    },
    {
      "cell_type": "markdown",
      "source": [
        "3.Write a code to slice the first 3 characters from the string \"Python Programming\"?"
      ],
      "metadata": {
        "id": "dYNRJVRo4KIR"
      }
    },
    {
      "cell_type": "code",
      "source": [
        "text = \"Python Programming\"\n",
        "first_three = text[:3]\n",
        "print(first_three)\n"
      ],
      "metadata": {
        "colab": {
          "base_uri": "https://localhost:8080/"
        },
        "id": "UijinMrF4Viq",
        "outputId": "9b441c3d-ed43-4349-8bbd-6cc1e8962945"
      },
      "execution_count": 3,
      "outputs": [
        {
          "output_type": "stream",
          "name": "stdout",
          "text": [
            "Pyt\n"
          ]
        }
      ]
    },
    {
      "cell_type": "markdown",
      "source": [
        "4.Write a code to convert the string \"hello\" to uppercase?"
      ],
      "metadata": {
        "id": "rnigC7bp4fMN"
      }
    },
    {
      "cell_type": "code",
      "source": [
        "text = \"hello\"\n",
        "uppercase_text = text.upper()\n",
        "print(uppercase_text)\n"
      ],
      "metadata": {
        "colab": {
          "base_uri": "https://localhost:8080/"
        },
        "id": "rBw8YPAb4luJ",
        "outputId": "98acfcbf-5b06-4c38-b2b0-2082b9164b14"
      },
      "execution_count": 4,
      "outputs": [
        {
          "output_type": "stream",
          "name": "stdout",
          "text": [
            "HELLO\n"
          ]
        }
      ]
    },
    {
      "cell_type": "markdown",
      "source": [
        "5.Write a code to replace the word \"apple\" with \"orange\" in the string \"I like apple\"?"
      ],
      "metadata": {
        "id": "3V2HEb4w4oI3"
      }
    },
    {
      "cell_type": "code",
      "source": [
        "text = \"I like apple\"\n",
        "new_text = text.replace(\"apple\", \"orange\")\n",
        "print(new_text)\n"
      ],
      "metadata": {
        "colab": {
          "base_uri": "https://localhost:8080/"
        },
        "id": "JG6vpBgD40TK",
        "outputId": "e34d2d8a-53ed-4226-a4a6-e21d63983244"
      },
      "execution_count": 5,
      "outputs": [
        {
          "output_type": "stream",
          "name": "stdout",
          "text": [
            "I like orange\n"
          ]
        }
      ]
    },
    {
      "cell_type": "markdown",
      "source": [
        "6.Write a code to create a list with numbers 1 to 5 and print it?"
      ],
      "metadata": {
        "id": "1QcsaTev46td"
      }
    },
    {
      "cell_type": "code",
      "source": [
        "numbers = [1, 2, 3, 4, 5]\n",
        "print(numbers)\n"
      ],
      "metadata": {
        "colab": {
          "base_uri": "https://localhost:8080/"
        },
        "id": "1-UJXZa_5POo",
        "outputId": "34e0c59a-0bfc-4732-8f3f-3d010e09a4fd"
      },
      "execution_count": 6,
      "outputs": [
        {
          "output_type": "stream",
          "name": "stdout",
          "text": [
            "[1, 2, 3, 4, 5]\n"
          ]
        }
      ]
    },
    {
      "cell_type": "markdown",
      "source": [
        "7.Write a code to append the number 10 to the list [1, 2, 3, 4]?"
      ],
      "metadata": {
        "id": "4YHfkHZ75RS8"
      }
    },
    {
      "cell_type": "code",
      "source": [
        "numbers = [1, 2, 3, 4]\n",
        "numbers.append(10)\n",
        "print(numbers)\n"
      ],
      "metadata": {
        "colab": {
          "base_uri": "https://localhost:8080/"
        },
        "id": "81e_5RP-5lWf",
        "outputId": "4b6a7f76-bead-4897-e749-3e852ed44f73"
      },
      "execution_count": 7,
      "outputs": [
        {
          "output_type": "stream",
          "name": "stdout",
          "text": [
            "[1, 2, 3, 4, 10]\n"
          ]
        }
      ]
    },
    {
      "cell_type": "markdown",
      "source": [
        "8.Write a code to remove the number 3 from the list [1, 2, 3, 4, 5]?"
      ],
      "metadata": {
        "id": "_OeFMt5Z5nQg"
      }
    },
    {
      "cell_type": "code",
      "source": [
        "numbers = [1, 2, 3, 4, 5]\n",
        "numbers.remove(3)\n",
        "print(numbers)\n"
      ],
      "metadata": {
        "colab": {
          "base_uri": "https://localhost:8080/"
        },
        "id": "VAZYkEH3544w",
        "outputId": "ebdb8389-e206-4c17-ca4c-5c217c89ba09"
      },
      "execution_count": 8,
      "outputs": [
        {
          "output_type": "stream",
          "name": "stdout",
          "text": [
            "[1, 2, 4, 5]\n"
          ]
        }
      ]
    },
    {
      "cell_type": "markdown",
      "source": [
        "9.Write a code to access the second element in the list ['a', 'b', 'c', 'd']?"
      ],
      "metadata": {
        "id": "-qE9PNQR58LS"
      }
    },
    {
      "cell_type": "code",
      "source": [
        "letters = ['a', 'b', 'c', 'd']\n",
        "second_element = letters[1]\n",
        "print(second_element)\n"
      ],
      "metadata": {
        "colab": {
          "base_uri": "https://localhost:8080/"
        },
        "id": "Sv0S9m046J97",
        "outputId": "1235d510-d223-45ec-d007-eab5a6bfb466"
      },
      "execution_count": 9,
      "outputs": [
        {
          "output_type": "stream",
          "name": "stdout",
          "text": [
            "b\n"
          ]
        }
      ]
    },
    {
      "cell_type": "markdown",
      "source": [
        "10.Write a code to reverse the list [10, 20, 30, 40, 50].?"
      ],
      "metadata": {
        "id": "Y9vq1m4v6MXy"
      }
    },
    {
      "cell_type": "code",
      "source": [
        "numbers = [10, 20, 30, 40, 50]\n",
        "numbers.reverse()\n",
        "print(numbers)\n"
      ],
      "metadata": {
        "colab": {
          "base_uri": "https://localhost:8080/"
        },
        "id": "QW_wqYCm6Yv_",
        "outputId": "4ef13c80-beb0-47c2-abc4-b77c600ca947"
      },
      "execution_count": 10,
      "outputs": [
        {
          "output_type": "stream",
          "name": "stdout",
          "text": [
            "[50, 40, 30, 20, 10]\n"
          ]
        }
      ]
    },
    {
      "cell_type": "markdown",
      "source": [
        "11. Write a code to create a tuple with the elements 100, 200, 300 and print it."
      ],
      "metadata": {
        "id": "9L-om6zk6bNs"
      }
    },
    {
      "cell_type": "code",
      "source": [
        "my_tuple = (100, 200, 300)\n",
        "print(my_tuple)\n"
      ],
      "metadata": {
        "colab": {
          "base_uri": "https://localhost:8080/"
        },
        "id": "QvxxHYrS6ljm",
        "outputId": "293cb12a-4f87-424b-aa2a-953985b8b299"
      },
      "execution_count": 11,
      "outputs": [
        {
          "output_type": "stream",
          "name": "stdout",
          "text": [
            "(100, 200, 300)\n"
          ]
        }
      ]
    },
    {
      "cell_type": "markdown",
      "source": [
        "12. Write a code to access the second-to-last element of the tuple ('red', 'green', 'blue', 'yellow')."
      ],
      "metadata": {
        "id": "rmAH5r6z6rN8"
      }
    },
    {
      "cell_type": "code",
      "source": [
        "colors = ('red', 'green', 'blue', 'yellow')\n",
        "second_last = colors[-2]\n",
        "print(second_last)\n"
      ],
      "metadata": {
        "colab": {
          "base_uri": "https://localhost:8080/"
        },
        "id": "IEtZmVFX6z6A",
        "outputId": "67ce9b21-4f20-47f7-8e9e-570ddd65ad7a"
      },
      "execution_count": 12,
      "outputs": [
        {
          "output_type": "stream",
          "name": "stdout",
          "text": [
            "blue\n"
          ]
        }
      ]
    },
    {
      "cell_type": "markdown",
      "source": [
        "13. Write a code to find the minimum number in the tuple (10, 20, 5, 15)."
      ],
      "metadata": {
        "id": "sTFPHcNc61xu"
      }
    },
    {
      "cell_type": "code",
      "source": [
        "numbers = (10, 20, 5, 15)\n",
        "minimum = min(numbers)\n",
        "print(minimum)\n"
      ],
      "metadata": {
        "colab": {
          "base_uri": "https://localhost:8080/"
        },
        "id": "JX0RPkws6-3O",
        "outputId": "591efe87-5399-4e0a-9b79-a1268fea7ab0"
      },
      "execution_count": 13,
      "outputs": [
        {
          "output_type": "stream",
          "name": "stdout",
          "text": [
            "5\n"
          ]
        }
      ]
    },
    {
      "cell_type": "markdown",
      "source": [
        "14. Write a code to find the index of the element \"cat\" in the tuple ('dog', 'cat', 'rabbit').\n",
        "\n"
      ],
      "metadata": {
        "id": "cPGEDaIC7Bjy"
      }
    },
    {
      "cell_type": "code",
      "source": [
        "animals = ('dog', 'cat', 'rabbit')\n",
        "index_of_cat = animals.index('cat')\n",
        "print(index_of_cat)\n"
      ],
      "metadata": {
        "colab": {
          "base_uri": "https://localhost:8080/"
        },
        "id": "Hno1IC567KOg",
        "outputId": "22f317ff-4f8e-4883-e07a-7f1af4f2e85b"
      },
      "execution_count": 14,
      "outputs": [
        {
          "output_type": "stream",
          "name": "stdout",
          "text": [
            "1\n"
          ]
        }
      ]
    },
    {
      "cell_type": "markdown",
      "source": [
        "15.. Write a code to create a tuple containing three different fruits and check if \"kiwi\" is in it."
      ],
      "metadata": {
        "id": "iu7rsL0n7Mi6"
      }
    },
    {
      "cell_type": "code",
      "source": [
        "fruits = (\"apple\", \"banana\", \"orange\")\n",
        "is_kiwi_present = \"kiwi\" in fruits\n",
        "print(is_kiwi_present)\n"
      ],
      "metadata": {
        "colab": {
          "base_uri": "https://localhost:8080/"
        },
        "id": "ImtUO1Kv7W4z",
        "outputId": "37fe97fc-618d-43bb-d325-add2bea361b3"
      },
      "execution_count": 15,
      "outputs": [
        {
          "output_type": "stream",
          "name": "stdout",
          "text": [
            "False\n"
          ]
        }
      ]
    },
    {
      "cell_type": "markdown",
      "source": [
        "16.. Write a code to create a set with the elements 'a', 'b', 'c' and print it."
      ],
      "metadata": {
        "id": "jJ8Bdn287YwD"
      }
    },
    {
      "cell_type": "code",
      "source": [
        "my_set = {'a', 'b', 'c'}\n",
        "print(my_set)\n"
      ],
      "metadata": {
        "colab": {
          "base_uri": "https://localhost:8080/"
        },
        "id": "n8sEPXtv7kdf",
        "outputId": "5ac13d29-0743-4c19-c16b-89f5687357bd"
      },
      "execution_count": 16,
      "outputs": [
        {
          "output_type": "stream",
          "name": "stdout",
          "text": [
            "{'b', 'c', 'a'}\n"
          ]
        }
      ]
    },
    {
      "cell_type": "markdown",
      "source": [
        "17. Write a code to clear all elements from the set {1, 2, 3, 4, 5}."
      ],
      "metadata": {
        "id": "mRbTc0vO7mNn"
      }
    },
    {
      "cell_type": "code",
      "source": [
        "my_set = {1, 2, 3, 4, 5}\n",
        "my_set.clear()\n",
        "print(my_set)\n"
      ],
      "metadata": {
        "colab": {
          "base_uri": "https://localhost:8080/"
        },
        "id": "dNTv-BUv7wZf",
        "outputId": "ef51587e-a94c-4817-e102-936109433229"
      },
      "execution_count": 17,
      "outputs": [
        {
          "output_type": "stream",
          "name": "stdout",
          "text": [
            "set()\n"
          ]
        }
      ]
    },
    {
      "cell_type": "markdown",
      "source": [
        "18.Write a code to remove the element 4 from the set {1, 2, 3, 4}"
      ],
      "metadata": {
        "id": "nThywfoN7ycn"
      }
    },
    {
      "cell_type": "code",
      "source": [
        "my_set = {1, 2, 3, 4}\n",
        "my_set.remove(4)\n",
        "print(my_set)\n"
      ],
      "metadata": {
        "colab": {
          "base_uri": "https://localhost:8080/"
        },
        "id": "p-ddDKIb79Ie",
        "outputId": "455d5337-0930-442c-9446-fada503444f5"
      },
      "execution_count": 18,
      "outputs": [
        {
          "output_type": "stream",
          "name": "stdout",
          "text": [
            "{1, 2, 3}\n"
          ]
        }
      ]
    },
    {
      "cell_type": "markdown",
      "source": [
        "19.. Write a code to find the union of two sets {1, 2, 3} and {3, 4, 5}."
      ],
      "metadata": {
        "id": "M72wkrLt7_3g"
      }
    },
    {
      "cell_type": "code",
      "source": [
        "set1 = {1, 2, 3}\n",
        "set2 = {3, 4, 5}\n",
        "union_set = set1.union(set2)\n",
        "print(union_set)\n"
      ],
      "metadata": {
        "colab": {
          "base_uri": "https://localhost:8080/"
        },
        "id": "STmDTE2n8Jec",
        "outputId": "d71fb73c-810f-4e56-9f4d-3b0bf2395453"
      },
      "execution_count": 19,
      "outputs": [
        {
          "output_type": "stream",
          "name": "stdout",
          "text": [
            "{1, 2, 3, 4, 5}\n"
          ]
        }
      ]
    },
    {
      "cell_type": "markdown",
      "source": [
        "20.. Write a code to find the intersection of two sets {1, 2, 3} and {2, 3, 4}.\n",
        "\n"
      ],
      "metadata": {
        "id": "oVw9Y9fM8PY4"
      }
    },
    {
      "cell_type": "code",
      "source": [
        "set1 = {1, 2, 3}\n",
        "set2 = {2, 3, 4}\n",
        "intersection_set = set1.intersection(set2)\n",
        "print(intersection_set)\n"
      ],
      "metadata": {
        "colab": {
          "base_uri": "https://localhost:8080/"
        },
        "id": "5DJBdWoI8bH9",
        "outputId": "91f3035a-12e3-4255-f170-0a71ebfcf789"
      },
      "execution_count": 20,
      "outputs": [
        {
          "output_type": "stream",
          "name": "stdout",
          "text": [
            "{2, 3}\n"
          ]
        }
      ]
    },
    {
      "cell_type": "markdown",
      "source": [
        "21. Write a code to create a dictionary with the keys \"name\", \"age\", and \"city\", and print it."
      ],
      "metadata": {
        "id": "lKVLGAVT8dY1"
      }
    },
    {
      "cell_type": "code",
      "source": [
        "person = {\n",
        "    \"name\": \"Avinash\",\n",
        "    \"age\": 25,\n",
        "    \"city\": \"Mirzapur\"\n",
        "}\n",
        "print(person)\n"
      ],
      "metadata": {
        "colab": {
          "base_uri": "https://localhost:8080/"
        },
        "id": "dqHWE1SO8tOw",
        "outputId": "6103b263-e6e1-4d06-f1f7-616a05932e7c"
      },
      "execution_count": 21,
      "outputs": [
        {
          "output_type": "stream",
          "name": "stdout",
          "text": [
            "{'name': 'Avinash', 'age': 25, 'city': 'Mirzapur'}\n"
          ]
        }
      ]
    },
    {
      "cell_type": "markdown",
      "source": [
        "22. Write a code to add a new key-value pair \"country\": \"USA\" to the dictionary {'name': 'John', 'age': 25}."
      ],
      "metadata": {
        "id": "zDdwg_gK8zUZ"
      }
    },
    {
      "cell_type": "code",
      "source": [
        "person = {'name': 'John', 'age': 25}\n",
        "person['country'] = 'USA'\n",
        "print(person)\n"
      ],
      "metadata": {
        "colab": {
          "base_uri": "https://localhost:8080/"
        },
        "id": "aPQVyCH988bh",
        "outputId": "91ac1308-25b8-43b7-f187-e03e9a7d6192"
      },
      "execution_count": 22,
      "outputs": [
        {
          "output_type": "stream",
          "name": "stdout",
          "text": [
            "{'name': 'John', 'age': 25, 'country': 'USA'}\n"
          ]
        }
      ]
    },
    {
      "cell_type": "markdown",
      "source": [
        "23. Write a code to access the value associated with the key \"name\" in the dictionary {'name': 'Alice', 'age': 30}."
      ],
      "metadata": {
        "id": "8Bn3tbzk894O"
      }
    },
    {
      "cell_type": "code",
      "source": [
        "person = {'name': 'Alice', 'age': 30}\n",
        "name_value = person['name']\n",
        "print(name_value)\n"
      ],
      "metadata": {
        "colab": {
          "base_uri": "https://localhost:8080/"
        },
        "id": "WxlF4V4d9LdX",
        "outputId": "a8868081-6cd6-4410-810e-823744d711f8"
      },
      "execution_count": 23,
      "outputs": [
        {
          "output_type": "stream",
          "name": "stdout",
          "text": [
            "Alice\n"
          ]
        }
      ]
    },
    {
      "cell_type": "markdown",
      "source": [
        "24. Write a code to remove the key \"age\" from the dictionary {'name': 'Bob', 'age': 22, 'city': 'New York'}.**bold text**"
      ],
      "metadata": {
        "id": "iPdYmgEw9OVA"
      }
    },
    {
      "cell_type": "code",
      "source": [
        "person = {'name': 'Bob', 'age': 22, 'city': 'New York'}\n",
        "del person['age']\n",
        "print(person)\n"
      ],
      "metadata": {
        "colab": {
          "base_uri": "https://localhost:8080/"
        },
        "id": "EwOHenn09WTa",
        "outputId": "ab1e5bff-48b6-4029-c40f-7627dfaa915a"
      },
      "execution_count": 24,
      "outputs": [
        {
          "output_type": "stream",
          "name": "stdout",
          "text": [
            "{'name': 'Bob', 'city': 'New York'}\n"
          ]
        }
      ]
    },
    {
      "cell_type": "markdown",
      "source": [
        "25. Write a code to check if the key \"city\" exists in the dictionary {'name': 'Alice', 'city': 'Paris'}."
      ],
      "metadata": {
        "id": "TZ8RBmPr9fie"
      }
    },
    {
      "cell_type": "code",
      "source": [
        "person = {'name': 'Alice', 'city': 'Paris'}\n",
        "is_city_present = 'city' in person\n",
        "print(is_city_present)\n"
      ],
      "metadata": {
        "colab": {
          "base_uri": "https://localhost:8080/"
        },
        "id": "gEYsgLmh9oGe",
        "outputId": "76b8f32b-b57c-44a3-a79b-d923d5755fec"
      },
      "execution_count": 25,
      "outputs": [
        {
          "output_type": "stream",
          "name": "stdout",
          "text": [
            "True\n"
          ]
        }
      ]
    },
    {
      "cell_type": "markdown",
      "source": [
        "26.. Write a code to create a list, a tuple, and a dictionary, and print them all."
      ],
      "metadata": {
        "id": "mcZU9N-O9rwF"
      }
    },
    {
      "cell_type": "code",
      "source": [
        "# Creating a list\n",
        "my_list = [1, 2, 3, 4, 5]\n",
        "\n",
        "# Creating a tuple\n",
        "my_tuple = ('apple', 'banana', 'cherry')\n",
        "\n",
        "# Creating a dictionary\n",
        "my_dict = {'name': 'John', 'age': 28, 'city': 'Delhi'}\n",
        "\n",
        "# Printing all\n",
        "print(\"List:\", my_list)\n",
        "print(\"Tuple:\", my_tuple)\n",
        "print(\"Dictionary:\", my_dict)\n"
      ],
      "metadata": {
        "colab": {
          "base_uri": "https://localhost:8080/"
        },
        "id": "kdFaHxW491qC",
        "outputId": "c681e4a0-d9e0-4bb7-cfae-6ea68491a117"
      },
      "execution_count": 26,
      "outputs": [
        {
          "output_type": "stream",
          "name": "stdout",
          "text": [
            "List: [1, 2, 3, 4, 5]\n",
            "Tuple: ('apple', 'banana', 'cherry')\n",
            "Dictionary: {'name': 'John', 'age': 28, 'city': 'Delhi'}\n"
          ]
        }
      ]
    },
    {
      "cell_type": "markdown",
      "source": [
        "27. Write a code to create a list of 5 random numbers between 1 and 100, sort it in ascending order, and print the\n",
        "result.(replaced)"
      ],
      "metadata": {
        "id": "LVVCtOfz93pn"
      }
    },
    {
      "cell_type": "code",
      "source": [
        "import random\n",
        "\n",
        "# Create a list of 5 random numbers between 1 and 100\n",
        "random_numbers = [random.randint(1, 100) for _ in range(5)]\n",
        "\n",
        "# Sort the list in ascending order\n",
        "random_numbers.sort()\n",
        "\n",
        "# Print the sorted list\n",
        "print(\"Sorted random numbers:\", random_numbers)\n"
      ],
      "metadata": {
        "colab": {
          "base_uri": "https://localhost:8080/"
        },
        "id": "p6bd5KoI9_op",
        "outputId": "252dd185-777c-428c-dcaa-190ffc990493"
      },
      "execution_count": 27,
      "outputs": [
        {
          "output_type": "stream",
          "name": "stdout",
          "text": [
            "Sorted random numbers: [26, 48, 63, 77, 77]\n"
          ]
        }
      ]
    },
    {
      "cell_type": "markdown",
      "source": [
        "28. Write a code to create a list with strings and print the element at the third index."
      ],
      "metadata": {
        "id": "HHCgBzzr-BnH"
      }
    },
    {
      "cell_type": "code",
      "source": [
        "words = [\"apple\", \"banana\", \"cherry\", \"date\", \"elderberry\"]\n",
        "print(\"Element at third index:\", words[3])\n"
      ],
      "metadata": {
        "colab": {
          "base_uri": "https://localhost:8080/"
        },
        "id": "FF66u_7M-Nr_",
        "outputId": "bd56b751-2c2d-4d54-9da0-25ee876d52ad"
      },
      "execution_count": 28,
      "outputs": [
        {
          "output_type": "stream",
          "name": "stdout",
          "text": [
            "Element at third index: date\n"
          ]
        }
      ]
    },
    {
      "cell_type": "markdown",
      "source": [
        "29. Write a code to combine two dictionaries into one and print the result."
      ],
      "metadata": {
        "id": "Y94a5Re8-QKi"
      }
    },
    {
      "cell_type": "code",
      "source": [
        "dict1 = {'a': 1, 'b': 2}\n",
        "dict2 = {'c': 3, 'd': 4}\n",
        "\n",
        "# Combine dictionaries\n",
        "combined_dict = {**dict1, **dict2}\n",
        "\n",
        "print(\"Combined Dictionary:\", combined_dict)\n"
      ],
      "metadata": {
        "colab": {
          "base_uri": "https://localhost:8080/"
        },
        "id": "frHqUi6y-ZyF",
        "outputId": "5662117e-198b-4b82-dea1-0b1bbb1cb039"
      },
      "execution_count": 29,
      "outputs": [
        {
          "output_type": "stream",
          "name": "stdout",
          "text": [
            "Combined Dictionary: {'a': 1, 'b': 2, 'c': 3, 'd': 4}\n"
          ]
        }
      ]
    },
    {
      "cell_type": "markdown",
      "source": [
        "30. Write a code to convert a list of strings into a set"
      ],
      "metadata": {
        "id": "E15vmq89-fo9"
      }
    },
    {
      "cell_type": "code",
      "source": [
        "string_list = [\"apple\", \"banana\", \"cherry\", \"apple\"]\n",
        "string_set = set(string_list)\n",
        "print(\"Set:\", string_set)\n"
      ],
      "metadata": {
        "id": "SYNlIZU_-j6m",
        "outputId": "09266dd4-3963-415a-d4e8-9dc7cf01e175",
        "colab": {
          "base_uri": "https://localhost:8080/"
        }
      },
      "execution_count": 30,
      "outputs": [
        {
          "output_type": "stream",
          "name": "stdout",
          "text": [
            "Set: {'apple', 'banana', 'cherry'}\n"
          ]
        }
      ]
    }
  ]
}